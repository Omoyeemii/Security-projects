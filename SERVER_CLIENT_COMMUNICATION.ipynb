{
  "nbformat": 4,
  "nbformat_minor": 0,
  "metadata": {
    "colab": {
      "provenance": [],
      "authorship_tag": "ABX9TyO4GRNAGdluwmbda0YzyYdw",
      "include_colab_link": true
    },
    "kernelspec": {
      "name": "python3",
      "display_name": "Python 3"
    },
    "language_info": {
      "name": "python"
    }
  },
  "cells": [
    {
      "cell_type": "markdown",
      "metadata": {
        "id": "view-in-github",
        "colab_type": "text"
      },
      "source": [
        "<a href=\"https://colab.research.google.com/github/Omoyeemii/Security-projects/blob/main/SERVER_CLIENT_COMMUNICATION.ipynb\" target=\"_parent\"><img src=\"https://colab.research.google.com/assets/colab-badge.svg\" alt=\"Open In Colab\"/></a>"
      ]
    },
    {
      "cell_type": "code",
      "execution_count": null,
      "metadata": {
        "colab": {
          "base_uri": "https://localhost:8080/"
        },
        "id": "sADLrD3hymD2",
        "outputId": "c2e5ef89-96dd-4676-fc8e-0dbddd392214"
      },
      "outputs": [
        {
          "output_type": "stream",
          "name": "stdout",
          "text": [
            "Server listening on 0.0.0.0:6789...\n"
          ]
        }
      ],
      "source": [
        "import socket\n",
        "\n",
        "# Step 1: Create the socket object\n",
        "server_socket = socket.socket(socket.AF_INET, socket.SOCK_STREAM)\n",
        "\n",
        "# Step 2: Bind the socket to an IP address and a port\n",
        "host = '0.0.0.0'\n",
        "  # Localhost (can also be a specific IP address)\n",
        "port = 6789         # You can choose any available port number\n",
        "server_socket.bind((host, port))\n",
        "\n",
        "# Step 3: Enable the server to listen for incoming connections (max 5 connections)\n",
        "server_socket.listen(5)\n",
        "print(f\"Server listening on {host}:{port}...\")\n",
        "\n",
        "# Step 4: Accept a client connection\n",
        "client_socket, client_address = server_socket.accept()\n",
        "print(f\"Connection established with {client_address}\")\n",
        "\n",
        "# Step 5: Receive data from the client\n",
        "data = client_socket.recv(1024)  # 1024 bytes buffer size\n",
        "print(\"Received from client:\", data.decode())\n",
        "\n",
        "# Step 6: Send data back to the client\n",
        "message = \"Hello, Client! YOU HAPPEN TO BE SO FUCKED UP, WELLDONE\" .lower()\n",
        "client_socket.send(message.encode())\n",
        "\n",
        "# Step 7: Close the connection\n",
        "client_socket.close()\n",
        "server_socket.close()\n"
      ]
    },
    {
      "cell_type": "code",
      "source": [
        "import socket\n",
        "\n",
        "# Step 1: Create the socket object\n",
        "client_socket = socket.socket(socket.AF_INET, socket.SOCK_STREAM)\n",
        "\n",
        "# Step 2: Connect to the server\n",
        "host = '192.168.56.1'  # Same as the server's IP address\n",
        "port = 6789         # Same port number used by the server\n",
        "client_socket.connect((host, port))\n",
        "\n",
        "# Step 3: Send data to the server\n",
        "message = \"Hello, YOU!\" .upper()\n",
        "client_socket.send(message.encode())\n",
        "\n",
        "# Step 4: Receive the server's response\n",
        "data = client_socket.recv(1024)  # Buffer size\n",
        "print(\"Received from server:\", data.decode())\n",
        "\n",
        "# Step 5: Close the connection\n",
        "client_socket.close()\n"
      ],
      "metadata": {
        "id": "piQQxGLZyrUS"
      },
      "execution_count": null,
      "outputs": []
    }
  ]
}